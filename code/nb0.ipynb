{
  "cells": [
    {
      "cell_type": "markdown",
      "metadata": {
        "id": "view-in-github",
        "colab_type": "text"
      },
      "source": [
        "<a href=\"https://colab.research.google.com/github/gmshroff/metaLearning2022/blob/main/code/nb0.ipynb\" target=\"_parent\"><img src=\"https://colab.research.google.com/assets/colab-badge.svg\" alt=\"Open In Colab\"/></a>"
      ]
    },
    {
      "cell_type": "markdown",
      "metadata": {
        "id": "0LGklTDZ6PvT"
      },
      "source": [
        "# TRAINING DEEP NEURAL NETWORKS"
      ]
    },
    {
      "cell_type": "code",
      "execution_count": 2,
      "metadata": {
        "colab": {
          "base_uri": "https://localhost:8080/"
        },
        "id": "uYh0sK_F6PvW",
        "outputId": "3ed147f4-ef6a-480e-bb52-476c1dc43883"
      },
      "outputs": [
        {
          "output_type": "stream",
          "name": "stdout",
          "text": [
            "  Building wheel for import-ipynb (setup.py) ... \u001b[?25l\u001b[?25hdone\n"
          ]
        }
      ],
      "source": [
        "!pip install import_ipynb --quiet"
      ]
    },
    {
      "cell_type": "code",
      "source": [
        "import requests"
      ],
      "metadata": {
        "id": "wKLf7HPE6cUP"
      },
      "execution_count": 1,
      "outputs": []
    },
    {
      "cell_type": "code",
      "execution_count": 2,
      "metadata": {
        "id": "dNu9vMVf6PvX"
      },
      "outputs": [],
      "source": [
        "#If on colab:\n",
        "r=requests.get(\"https://github.com/gmshroff/metaLearning2022/blob/main/code/utils.ipynb?raw=true\")\n",
        "with open('./utils.ipynb','wb') as f: f.write(r.content)\n",
        "r=requests.get(\"https://github.com/gmshroff/metaLearning2022/blob/main/code/course_data.ipynb?raw=true\")\n",
        "with open('./course_data.ipynb','wb') as f: f.write(r.content)\n"
      ]
    },
    {
      "cell_type": "code",
      "source": [
        "from google.colab import drive\n",
        "drive.mount('/content/drive')\n",
        "%ls drive/MyDrive/'Colab Notebooks'"
      ],
      "metadata": {
        "colab": {
          "base_uri": "https://localhost:8080/"
        },
        "id": "wBb75ybs-xyY",
        "outputId": "410004b6-db13-43d8-d9a4-6b6553937c8c"
      },
      "execution_count": 3,
      "outputs": [
        {
          "output_type": "stream",
          "name": "stdout",
          "text": [
            "Drive already mounted at /content/drive; to attempt to forcibly remount, call drive.mount(\"/content/drive\", force_remount=True).\n",
            "experimental.ipynb  models.ipynb\n"
          ]
        }
      ]
    },
    {
      "cell_type": "code",
      "source": [
        "!cp drive/MyDrive/'Colab Notebooks'/models.ipynb ."
      ],
      "metadata": {
        "id": "gOGlxKRM_VWM"
      },
      "execution_count": 4,
      "outputs": []
    },
    {
      "cell_type": "code",
      "execution_count": 5,
      "metadata": {
        "colab": {
          "base_uri": "https://localhost:8080/"
        },
        "id": "EnbJ9Mia6PvY",
        "outputId": "c9ed0406-40e5-4148-e9fe-ca68527af8ac"
      },
      "outputs": [
        {
          "output_type": "stream",
          "name": "stdout",
          "text": [
            "importing Jupyter notebook from utils.ipynb\n",
            "importing Jupyter notebook from models.ipynb\n"
          ]
        }
      ],
      "source": [
        "import import_ipynb\n",
        "import utils\n",
        "#HW 1 - write code for models in models.ipynb\n",
        "import models\n",
        "from IPython import display\n",
        "import torch\n",
        "from sklearn.manifold import TSNE\n",
        "from matplotlib import pyplot as plt\n",
        "import pickle"
      ]
    },
    {
      "cell_type": "code",
      "execution_count": 6,
      "metadata": {
        "colab": {
          "base_uri": "https://localhost:8080/"
        },
        "id": "i8eBciR16PvZ",
        "outputId": "5b558dfa-3e21-4f44-f62f-a98df8971399"
      },
      "outputs": [
        {
          "output_type": "stream",
          "name": "stdout",
          "text": [
            "importing Jupyter notebook from course_data.ipynb\n"
          ]
        }
      ],
      "source": [
        "#If on colab\n",
        "from course_data import MyDS, ImageData"
      ]
    },
    {
      "cell_type": "markdown",
      "metadata": {
        "id": "JrwubFFF6PvZ"
      },
      "source": [
        "Random data in $\\mathcal{R}^N$ in $C$ clusters/classes."
      ]
    },
    {
      "cell_type": "code",
      "execution_count": 7,
      "metadata": {
        "id": "J1GD2fjl6PvZ"
      },
      "outputs": [],
      "source": [
        "#Generate data - euclidean\n",
        "train_ds, test_ds, dloader = utils.euclideanDataset(n_samples=10000,n_features=20,n_classes=10,batch_size=32)"
      ]
    },
    {
      "cell_type": "markdown",
      "metadata": {
        "id": "mE91cU1C6Pva"
      },
      "source": [
        "Using random data in $\\mathcal{R}^4$ as above to generate sin wave mixures; each class has different mean frequencies and amplitues."
      ]
    },
    {
      "cell_type": "markdown",
      "metadata": {
        "id": "FJyMrEF46Pvb"
      },
      "source": [
        "Project data down to a 2-D space for visualiation."
      ]
    },
    {
      "cell_type": "code",
      "execution_count": 9,
      "metadata": {
        "colab": {
          "base_uri": "https://localhost:8080/",
          "height": 334
        },
        "id": "2b8gu6896Pvc",
        "outputId": "b2417592-a796-45b4-cb72-5b30934ea225"
      },
      "outputs": [
        {
          "output_type": "stream",
          "name": "stderr",
          "text": [
            "/usr/local/lib/python3.7/dist-packages/sklearn/manifold/_t_sne.py:783: FutureWarning: The default initialization in TSNE will change from 'random' to 'pca' in 1.2.\n",
            "  FutureWarning,\n",
            "/usr/local/lib/python3.7/dist-packages/sklearn/manifold/_t_sne.py:793: FutureWarning: The default learning rate in TSNE will change from 200.0 to 'auto' in 1.2.\n",
            "  FutureWarning,\n"
          ]
        },
        {
          "output_type": "display_data",
          "data": {
            "image/png": "[encoded data removed]",
            "text/plain": [
              "<Figure size 432x288 with 1 Axes>"
            ]
          },
          "metadata": {
            "needs_background": "light"
          }
        }
      ],
      "source": [
        "tsne = TSNE()\n",
        "X_2d = tsne.fit_transform(train_ds.samples[0:100])\n",
        "colors=[\"red\",\"green\",\"blue\",\"yellow\",\"pink\",\"black\",\"orange\",\"purple\",\"beige\",\"brown\"]\n",
        "labcol=lambda i: colours[i]\n",
        "plt.scatter(X_2d[:,0],X_2d[:,1],c=[colors[l] for l in train_ds.labels[0:100]])\n",
        "plt.show()"
      ]
    },
    {
      "cell_type": "markdown",
      "metadata": {
        "id": "Qh01Dki_6Pvc"
      },
      "source": [
        "Time series data"
      ]
    },
    {
      "cell_type": "code",
      "execution_count": 40,
      "metadata": {
        "id": "FYB68wHC6Pvc"
      },
      "outputs": [],
      "source": [
        "#Generate data - sinusoidal mix\n",
        "train_ds, test_ds, dloader = utils.sinDataset(n_samples=100,length=20,n_classes=5,batch_size=1)"
      ]
    },
    {
      "cell_type": "markdown",
      "metadata": {
        "id": "-35fEKzo6Pvd"
      },
      "source": [
        "Image data from NAR project"
      ]
    },
    {
      "cell_type": "code",
      "execution_count": 7,
      "metadata": {
        "id": "q6DAXl886Pvd"
      },
      "outputs": [],
      "source": [
        "#If on Colab/student machine use the next few lines to load image data:\n",
        "r=requests.get(\"https://github.com/gmshroff/metaLearning2022/blob/main/data/image_data.pickle.zip?raw=true\")"
      ]
    },
    {
      "cell_type": "code",
      "execution_count": 8,
      "metadata": {
        "id": "w0NaZ9V96Pvd"
      },
      "outputs": [],
      "source": [
        "with open('./image_data.pickle.zip','wb') as f: f.write(r.content)"
      ]
    },
    {
      "cell_type": "code",
      "execution_count": 9,
      "metadata": {
        "colab": {
          "base_uri": "https://localhost:8080/"
        },
        "id": "tt80SV-_6Pvd",
        "outputId": "6c95c383-adb3-4911-aea4-c48bdff09818"
      },
      "outputs": [
        {
          "output_type": "stream",
          "name": "stdout",
          "text": [
            "Archive:  ./image_data.pickle.zip\n",
            "  inflating: image_data.pickle       \n"
          ]
        }
      ],
      "source": [
        "!unzip ./image_data.pickle.zip"
      ]
    },
    {
      "cell_type": "code",
      "execution_count": 10,
      "metadata": {
        "id": "cKrlyzu-6Pvd"
      },
      "outputs": [],
      "source": [
        "with open('./image_data.pickle','rb') as f: imageData=pickle.load(f)"
      ]
    },
    {
      "cell_type": "code",
      "source": [
        "train_ds,test_ds,mapping,dloader=imageData.train_ds,imageData.test_ds,imageData.mapping,imageData.dloader"
      ],
      "metadata": {
        "id": "WwH1zpQ47l3a"
      },
      "execution_count": 11,
      "outputs": []
    },
    {
      "cell_type": "code",
      "execution_count": null,
      "metadata": {
        "id": "185mMMKM6Pve"
      },
      "outputs": [],
      "source": [
        "plt.imshow([t for t in train_ds][11][0].reshape(20,20))"
      ]
    },
    {
      "cell_type": "code",
      "source": [
        "mapping[int(train_ds.labels[11])]"
      ],
      "metadata": {
        "id": "PWdhWdsv8Ue0"
      },
      "execution_count": null,
      "outputs": []
    },
    {
      "cell_type": "code",
      "execution_count": null,
      "metadata": {
        "id": "SoxuT6lJ6Pvf"
      },
      "outputs": [],
      "source": [
        "len(mapping.keys())"
      ]
    },
    {
      "cell_type": "code",
      "execution_count": null,
      "metadata": {
        "id": "aqKD4K0Y6Pvf"
      },
      "outputs": [],
      "source": [
        "mapping"
      ]
    },
    {
      "cell_type": "markdown",
      "metadata": {
        "id": "tqG72B426Pvf"
      },
      "source": [
        "The well-known MNIST data of handwritten characters."
      ]
    },
    {
      "cell_type": "code",
      "execution_count": null,
      "metadata": {
        "id": "ch6mh_sJ6Pvf"
      },
      "outputs": [],
      "source": [
        "train_ds, test_ds, dloader = utils.mnist_data(frac=0.25,download=True)"
      ]
    },
    {
      "cell_type": "code",
      "execution_count": null,
      "metadata": {
        "id": "ejJqZJL_6Pvf"
      },
      "outputs": [],
      "source": [
        "plt.imshow(train_ds.samples.reshape(15000,28,28)[10])\n",
        "plt.show()"
      ]
    },
    {
      "cell_type": "code",
      "source": [
        "train_ds.samples[0].shape"
      ],
      "metadata": {
        "colab": {
          "base_uri": "https://localhost:8080/"
        },
        "id": "7-fLS3hGAvI2",
        "outputId": "3b0bf835-69e2-41cd-9ccd-444185489e62"
      },
      "execution_count": 15,
      "outputs": [
        {
          "output_type": "execute_result",
          "data": {
            "text/plain": [
              "torch.Size([784])"
            ]
          },
          "metadata": {},
          "execution_count": 15
        }
      ]
    },
    {
      "cell_type": "code",
      "execution_count": null,
      "metadata": {
        "id": "rbY6ua2x6Pvf"
      },
      "outputs": [],
      "source": [
        "net(train_ds.samples[10].unsqueeze(0))"
      ]
    },
    {
      "cell_type": "markdown",
      "metadata": {
        "id": "oBzwyp3k6Pvf"
      },
      "source": [
        "Simple MLP"
      ]
    },
    {
      "cell_type": "code",
      "execution_count": 18,
      "metadata": {
        "id": "oDroeLoE6Pvf"
      },
      "outputs": [],
      "source": [
        "# Define an MLP network. Note that input dimension has to be data dimension. For classification\n",
        "# final dimension has to be number of classes; for regression one.\n",
        "#torch.manual_seed(10)\n",
        "#net = models.MLP(dims=[20,128,64,10])\n",
        "#net = models.MLP(dims=[400,128,64,74])\n",
        "net = models.MLP(dims=[784,128,64,10])\n",
        "#net = models.MLP(dims=[20,128,64,5])"
      ]
    },
    {
      "cell_type": "markdown",
      "metadata": {
        "id": "wJefhTEX6Pvf"
      },
      "source": [
        "Recurrent neural network."
      ]
    },
    {
      "cell_type": "code",
      "execution_count": null,
      "metadata": {
        "id": "rM9_Lk-Z6Pvg"
      },
      "outputs": [],
      "source": [
        "# Define an RNN to process a sequence; default is 1-D where input can be (batch,seq_vals) else input will need to be given\n",
        "# with an extra dimension and input will be (batch,seq,features)\n",
        "net = models.SimpleRNN(input_size=1,hidden_size=32,output_size=5,lr=1e-3)"
      ]
    },
    {
      "cell_type": "code",
      "execution_count": 16,
      "metadata": {
        "id": "DEDi5NHw6Pvg"
      },
      "outputs": [],
      "source": [
        "net = models.SimpleLSTM(input_size=1,hidden_size=32,output_size=5,lr=1e-3)"
      ]
    },
    {
      "cell_type": "markdown",
      "metadata": {
        "id": "Wl-WmWya6Pvg"
      },
      "source": [
        "Train the network"
      ]
    },
    {
      "cell_type": "code",
      "execution_count": 19,
      "metadata": {
        "colab": {
          "base_uri": "https://localhost:8080/"
        },
        "id": "coHXk_Z26Pvg",
        "outputId": "cfda9ae6-4b1e-4f81-e5bc-96b53fe6e7c7"
      },
      "outputs": [
        {
          "output_type": "stream",
          "name": "stdout",
          "text": [
            "Epoch   49 Loss: 3.97907e-06 Accuracy: 1.00000\n"
          ]
        }
      ],
      "source": [
        "# Train the network; note that network is trained in place so repeated calls further train it.\n",
        "net,losses,accs=models.Train(net,dloader,epochs=50,verbose=True)"
      ]
    },
    {
      "cell_type": "markdown",
      "metadata": {
        "id": "optX8iQb6Pvg"
      },
      "source": [
        "Accuracy on training set."
      ]
    },
    {
      "cell_type": "code",
      "execution_count": 39,
      "metadata": {
        "colab": {
          "base_uri": "https://localhost:8080/"
        },
        "id": "-VYXRR5a6Pvg",
        "outputId": "972ba47d-fa65-4e70-cb73-be1d2a944cc6"
      },
      "outputs": [
        {
          "output_type": "stream",
          "name": "stdout",
          "text": [
            "24218.0 24475\n"
          ]
        },
        {
          "output_type": "execute_result",
          "data": {
            "text/plain": [
              "0.9894994892747702"
            ]
          },
          "metadata": {},
          "execution_count": 39
        }
      ],
      "source": [
        "#Training accuracy.\n",
        "models.accuracy(net,train_ds.samples,train_ds.labels,verbose=True)"
      ]
    },
    {
      "cell_type": "markdown",
      "metadata": {
        "id": "f2wzSqyh6Pvg"
      },
      "source": [
        "Accuracy on test set."
      ]
    },
    {
      "cell_type": "code",
      "execution_count": 20,
      "metadata": {
        "colab": {
          "base_uri": "https://localhost:8080/"
        },
        "id": "AUed-ugX6Pvg",
        "outputId": "8d56d51b-4246-4892-9d10-9922c17fddbd"
      },
      "outputs": [
        {
          "output_type": "stream",
          "name": "stdout",
          "text": [
            "9684.0 10000\n"
          ]
        },
        {
          "output_type": "execute_result",
          "data": {
            "text/plain": [
              "0.9684"
            ]
          },
          "metadata": {},
          "execution_count": 20
        }
      ],
      "source": [
        "# Test accuracy.\n",
        "models.accuracy(net,test_ds.samples,test_ds.labels)"
      ]
    },
    {
      "cell_type": "code",
      "execution_count": null,
      "metadata": {
        "id": "dsAoZQWg6Pvg"
      },
      "outputs": [],
      "source": [
        ""
      ]
    }
  ],
  "metadata": {
    "kernelspec": {
      "display_name": "Python 3 (ipykernel)",
      "language": "python",
      "name": "python3"
    },
    "language_info": {
      "codemirror_mode": {
        "name": "ipython",
        "version": 3
      },
      "file_extension": ".py",
      "mimetype": "text/x-python",
      "name": "python",
      "nbconvert_exporter": "python",
      "pygments_lexer": "ipython3",
      "version": "3.8.12"
    },
    "colab": {
      "name": "nb0.ipynb",
      "provenance": [],
      "include_colab_link": true
    }
  },
  "nbformat": 4,
  "nbformat_minor": 0
}