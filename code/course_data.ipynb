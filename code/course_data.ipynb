{
 "cells": [
  {
   "cell_type": "code",
   "execution_count": null,
   "id": "43f159b4-9256-4ffd-91c7-69387492d535",
   "metadata": {},
   "outputs": [],
   "source": [
    "import numpy as np\n",
    "import pandas as pd\n",
    "import torch\n",
    "from torch.utils.data import Dataset\n",
    "from torch.utils.data import DataLoader\n",
    "from PIL import Image\n",
    "from PIL.ImageOps import invert\n",
    "import pickle\n",
    "from matplotlib import pyplot as plt\n",
    "import requests"
   ]
  },
  {
   "cell_type": "code",
   "execution_count": null,
   "id": "bb14129d-d0d6-4665-be8d-d9c8de585221",
   "metadata": {},
   "outputs": [],
   "source": [
    "class MyDS(Dataset):\n",
    "    def __init__(self, X,y):\n",
    "        self.samples = torch.Tensor(X)\n",
    "        self.labels = torch.LongTensor(y)\n",
    "        \n",
    "    def __len__(self):\n",
    "        return len(self.samples)\n",
    "\n",
    "    def __getitem__(self, idx):\n",
    "        return (self.samples[idx],self.labels[idx])"
   ]
  },
  {
   "cell_type": "code",
   "execution_count": null,
   "id": "3f038477-1a22-4f35-a67f-d5d70918475a",
   "metadata": {},
   "outputs": [],
   "source": [
    "class ImageData():\n",
    "    def __init__():\n",
    "        # train_ds\n",
    "        # test_ds\n",
    "        # images_train\n",
    "        # images_test\n",
    "        # names_train\n",
    "        # names_test\n",
    "        # dloader\n",
    "        # mapping\n",
    "        pass"
   ]
  },
  {
   "cell_type": "code",
   "execution_count": null,
   "id": "2a0071e0",
   "metadata": {},
   "outputs": [],
   "source": [
    "class ImageGridData():\n",
    "    def __init__(self):\n",
    "        pass"
   ]
  },
  {
   "cell_type": "code",
   "execution_count": null,
   "id": "1eac4547-2bf4-4392-bf66-765d602cb2e0",
   "metadata": {},
   "outputs": [],
   "source": [
    "class TsDS(Dataset):\n",
    "    def __init__(self, XL,yL):\n",
    "        self.samples=[]\n",
    "        self.labels=[]\n",
    "        for X,Y in zip(XL,yL):\n",
    "            self.samples += [torch.Tensor(X).unsqueeze(0)]\n",
    "            self.labels += [torch.LongTensor(Y)]\n",
    "    def __len__(self):\n",
    "        return len(self.samples)\n",
    "\n",
    "    def __getitem__(self, idx):\n",
    "        return (self.samples[idx],self.labels[idx])"
   ]
  },
  {
   "cell_type": "code",
   "execution_count": null,
   "id": "c952618c-41e7-41a7-8787-97a1fe458ba1",
   "metadata": {},
   "outputs": [],
   "source": [
    "class FeedData():\n",
    "    def __init__():\n",
    "        #train_ds\n",
    "        #test_ds\n",
    "        pass"
   ]
  },
  {
   "cell_type": "markdown",
   "id": "115afbc1-a7c4-4c25-af23-c2acfc811d8f",
   "metadata": {},
   "source": [
    "Go to directory where you want to download code; if on Colab you can ignore"
   ]
  },
  {
   "cell_type": "raw",
   "id": "855da970-988e-446b-a51c-55b3f3ddfdaf",
   "metadata": {},
   "source": [
    "%cd"
   ]
  },
  {
   "cell_type": "raw",
   "id": "88c39799-2f4a-4b8d-9d8d-05ff6b7f007c",
   "metadata": {},
   "source": [
    "%cd ./TryCode/tmp/"
   ]
  },
  {
   "cell_type": "raw",
   "id": "edd6ee2b-6a56-4d9f-b07d-08f3e4a5d9f6",
   "metadata": {},
   "source": [
    "!rm ./image_data.pickle.zip"
   ]
  },
  {
   "cell_type": "raw",
   "id": "67f8134e-d067-405f-a616-be880381bbfd",
   "metadata": {},
   "source": [
    "Load Image Dataset"
   ]
  },
  {
   "cell_type": "raw",
   "id": "8132798d-4e81-42ed-9840-a8d7cbc8dfc5",
   "metadata": {},
   "source": [
    "r=requests.get(\"https://github.com/gmshroff/metaLearning2022/blob/main/data/image_data.pickle.zip?raw=true\")"
   ]
  },
  {
   "cell_type": "raw",
   "id": "4cb0873d-9b0f-43d0-985b-71c40993bbf3",
   "metadata": {},
   "source": [
    "with open('./image_data.pickle.zip','wb') as f: f.write(r.content)"
   ]
  },
  {
   "cell_type": "raw",
   "id": "d74604e1-263f-4722-93f6-b905ffe72db7",
   "metadata": {},
   "source": [
    "!unzip ./image_data.pickle.zip"
   ]
  },
  {
   "cell_type": "raw",
   "id": "2f53de45-644c-405e-8398-7aa815e80b28",
   "metadata": {},
   "source": [
    "with open('./image_data.pickle','rb') as f: imageData=pickle.load(f)"
   ]
  },
  {
   "cell_type": "raw",
   "id": "c30e6b36-372c-4673-a8a9-dce89b0efcfe",
   "metadata": {},
   "source": [
    "Load images in grid dataset"
   ]
  },
  {
   "cell_type": "raw",
   "id": "8605530e-0b3c-49cc-8722-f2d98bfc07fe",
   "metadata": {},
   "source": [
    "r=requests.get(\"https://github.com/gmshroff/metaLearning2022/blob/main/data/image_grid_data.pickle.zip?raw=true\")"
   ]
  },
  {
   "cell_type": "raw",
   "id": "6eaa96c3-15b6-48b4-9438-d98dd0d6c1fb",
   "metadata": {},
   "source": [
    "with open('./image_grid_data.pickle.zip','wb') as f: f.write(r.content)"
   ]
  },
  {
   "cell_type": "raw",
   "id": "2bc59c06-d981-408d-91b9-35c92f12a6e3",
   "metadata": {},
   "source": [
    "!unzip image_grid_data.pickle.zip"
   ]
  },
  {
   "cell_type": "raw",
   "id": "7d6d992f-fbd2-4ac0-ac9f-864e22d0a252",
   "metadata": {},
   "source": [
    "with open('./image_grid_data.pickle','rb') as f: imageGrid=pickle.load(f)"
   ]
  },
  {
   "cell_type": "raw",
   "id": "daa520c1-254e-4c4b-b753-f0d70a3aeb41",
   "metadata": {},
   "source": [
    "Load Feeds Dataset"
   ]
  },
  {
   "cell_type": "raw",
   "id": "f153cd9a-1fa6-4e86-9e78-e2b46bfab24f",
   "metadata": {},
   "source": [
    "r=requests.get(\"https://github.com/gmshroff/metaLearning2022/blob/main/data/feedDataTrain.pickle.zip?raw=true\")"
   ]
  },
  {
   "cell_type": "raw",
   "id": "49371a17-edd3-4496-8164-65392d148cbe",
   "metadata": {},
   "source": [
    "with open('./feedsDataTrain.pickle.zip','wb') as f: f.write(r.content)"
   ]
  },
  {
   "cell_type": "raw",
   "id": "77aa8f42-d3b2-4f32-9eff-4abb404bf599",
   "metadata": {},
   "source": [
    "!unzip feedsDataTrain.pickle.zip"
   ]
  },
  {
   "cell_type": "raw",
   "id": "52fa8be8-0cac-4077-904e-c46b9d968201",
   "metadata": {},
   "source": [
    "with open('./feedDataTrain.pickle','rb') as f: feedDataMetaTrain=pickle.load(f)"
   ]
  },
  {
   "cell_type": "raw",
   "id": "73973852-8d9f-4090-80ee-455d58a64ccb",
   "metadata": {},
   "source": [
    "r=requests.get(\"https://github.com/gmshroff/metaLearning2022/blob/main/data/feedDataTest.pickle.zip?raw=true\")"
   ]
  },
  {
   "cell_type": "raw",
   "id": "e67e7e16-3265-49b5-aadc-a20181106fc3",
   "metadata": {},
   "source": [
    "with open('./feedsDataTest.pickle.zip','wb') as f: f.write(r.content)"
   ]
  },
  {
   "cell_type": "raw",
   "id": "91f25bcc-f7fe-46bf-9738-f8f1649df823",
   "metadata": {},
   "source": [
    "!unzip feedsDataTest.pickle.zip"
   ]
  },
  {
   "cell_type": "raw",
   "id": "f5725383-fae6-4adc-a0fc-66d7ed5f6ea7",
   "metadata": {},
   "source": [
    "with open('./feedDataTest.pickle','rb') as f: feedDataMetaTest=pickle.load(f)"
   ]
  },
  {
   "cell_type": "code",
   "execution_count": null,
   "id": "e840e6b7-235f-411b-8f21-e0ad0b36ac5c",
   "metadata": {},
   "outputs": [],
   "source": []
  }
 ],
 "metadata": {
  "kernelspec": {
   "display_name": "Python 3 (ipykernel)",
   "language": "python",
   "name": "python3"
  },
  "language_info": {
   "codemirror_mode": {
    "name": "ipython",
    "version": 3
   },
   "file_extension": ".py",
   "mimetype": "text/x-python",
   "name": "python",
   "nbconvert_exporter": "python",
   "pygments_lexer": "ipython3",
   "version": "3.8.12"
  }
 },
 "nbformat": 4,
 "nbformat_minor": 5
}
